{
  "nbformat": 4,
  "nbformat_minor": 0,
  "metadata": {
    "colab": {
      "name": "Obama Deepfake Detection.ipynb",
      "provenance": [],
      "collapsed_sections": []
    },
    "kernelspec": {
      "name": "python3",
      "display_name": "Python 3"
    },
    "language_info": {
      "name": "python"
    }
  },
  "cells": [
    {
      "cell_type": "markdown",
      "source": [
        "# **Deepfake Image Classification Model Of Brak Obama**"
      ],
      "metadata": {
        "id": "Ec6XNhGOldsd"
      }
    },
    {
      "cell_type": "markdown",
      "source": [
        "# connecting google colab with google drive:"
      ],
      "metadata": {
        "id": "2z-0XyXTmG4A"
      }
    },
    {
      "cell_type": "code",
      "source": [
        "from google.colab import drive\n",
        "drive.mount('/content/drive')"
      ],
      "metadata": {
        "id": "eBgAwRaJIv6L"
      },
      "execution_count": null,
      "outputs": []
    },
    {
      "cell_type": "markdown",
      "source": [
        "Unziping the rar file which was in my google drive"
      ],
      "metadata": {
        "id": "smy7xn40l2Yz"
      }
    },
    {
      "cell_type": "code",
      "source": [
        "!unrar x '/content/drive/Shareddrives/Zeshan Movies/obama.rar'"
      ],
      "metadata": {
        "id": "FjXudGUxJJrP"
      },
      "execution_count": null,
      "outputs": []
    },
    {
      "cell_type": "markdown",
      "source": [
        "extrating images from **videos**"
      ],
      "metadata": {
        "id": "m4iIEIjWmW98"
      }
    },
    {
      "cell_type": "code",
      "source": [
        "import cv2\n",
        "import os\n",
        "\n",
        "vid=cv2.VideoCapture('/content/obama/obamadeepfake/President Obama on Death of Osama bin Laden(720P_HD).mp4')\n",
        "\n",
        "try:\n",
        "    #creating folder name realkapil\n",
        "    if not os.path.exists('dfobama'):\n",
        "        os.makedirs('dfobama')\n",
        "        \n",
        "#if not created then raise error\n",
        "except OSError:\n",
        "    print('Error Creating directory of data')\n",
        "    \n",
        "#frame\n",
        "\n",
        "currentframe=0\n",
        "\n",
        "while(True):\n",
        "    \n",
        "    #reading from frame\n",
        "    ret,frame=vid.read()\n",
        "    \n",
        "    if ret:\n",
        "        #if video is still left continue creating images\n",
        "        name='.dfobama/realframe'+str(currentframe)+'.jpg'\n",
        "        print('Creating..'+name)\n",
        "        \n",
        "        #write the extracted images\n",
        "        cv2.imwrite(name,frame)\n",
        "        \n",
        "        \n",
        "        currentframe+=1\n",
        "        \n",
        "    else:\n",
        "        break\n",
        "        \n",
        "\n",
        "        \n",
        "        \n",
        "vid.release()\n",
        "cv2.destroyAllWindows()"
      ],
      "metadata": {
        "id": "BmYnV_ggJP-4"
      },
      "execution_count": null,
      "outputs": []
    },
    {
      "cell_type": "markdown",
      "source": [
        "Importing Required Libries for Model Building\n",
        "\n",
        "1.Libraries:  These are code written by someone else that helps you perform some common tasks in a less verbose way. An end-to-end accessible platform, an open-source AI library is a Machine Learning framework that offers techniques and technologies for software development and the creation of applications. An AI library is empowered by artificial intelligence and is available for commercial and non-commercial uses by the public. \n",
        "\n",
        " \n",
        "\n",
        "2.NumPy:NumPy can be used to perform a wide variety of mathematical operations on arrays.NumPy arrays facilitate advanced mathematical and other types of operations on large numbers of data. Typically, such operations are executed more efficiently and with less code than is possible using Python's built-in sequences. \n",
        "\n",
        "3.Pandas: Pandas is a Python library. Pandas is used to analyze data. Pandas is a fast, powerful, flexible and easy to use open source data analysis and manipulation tool, built on top of the Python programming language.  \n",
        "\n",
        "  \n",
        "\n",
        "4.Matplotlib: Matplotlib is a cross-platform, data visualization and graphical plotting library for Python and its numerical extension NumPy.Matplotlib is a comprehensive library for creating static, animated, and interactive visualizations in Python. Matplotlib makes easy things easy and hard things possible. \n",
        "\n",
        "  \n",
        "\n",
        "5.Tensorflow: TensorFlow is an open-source library developed by Google primarily for deep learning applications.TensorFlow is a free and open-source software library for machine learning and artificial intelligence. It can be used across a range of tasks but has a particular focus on training and inference of deep neural networks. \n",
        "\n",
        " \n",
        "\n",
        "6.Keras: Keras is used for creating deep models which can be productized on smartphones. Keras is also used for distributed training of deep learning models.Keras is a powerful and easy-to-use free open source Python library for developing and evaluating deep learning models. It wraps the efficient numerical computation libraries Theano and TensorFlow and allows you to define and train neural network models in just a few lines of code. \n",
        "\n",
        "7.OS: The OS module in Python provides functions for interacting with the operating system. OS comes under Python's standard utility modules. This module provides a portable way of using operating system-dependent functionality. \n"
      ],
      "metadata": {
        "id": "_SI3n7COml1s"
      }
    },
    {
      "cell_type": "code",
      "source": [
        "import numpy as np\n",
        "import pandas as pd\n",
        "import matplotlib.pyplot as plt\n",
        "from tensorflow.keras.models import Sequential\n",
        "from tensorflow.keras.layers import Conv2D,MaxPooling2D,Dropout,Flatten,Dense\n",
        "from tensorflow.keras.preprocessing.image import ImageDataGenerator\n",
        "import os\n"
      ],
      "metadata": {
        "id": "ELYrBG_tv4yL"
      },
      "execution_count": null,
      "outputs": []
    },
    {
      "cell_type": "markdown",
      "source": [
        "Giving the rquired path address for data traning\n",
        "\n",
        "4.Train & Test: Train/Test is a method to measure the accuracy of your model. It is called Train/Test because you split the data set into two sets: a training set and a testing set. 80% for training, and 20% for testing. You train the model using the training set. \n",
        "\n",
        "The “training” data set is the general term for the samples used to create the model, while the “test” data set is used to qualify performance. Perhaps traditionally the dataset used to evaluate the final model performance is called the “test set”. \n",
        "\n",
        "5.Validation:  In machine learning, model validation is referred to as the process where a trained model is evaluated with a testing data set. The testing data set is a separate portion of the same data set from which the training set is derived. "
      ],
      "metadata": {
        "id": "4Hj8OR-6mvKL"
      }
    },
    {
      "cell_type": "code",
      "source": [
        "train='/content/obama/obama database/obama_train'\n",
        "valid='/content/obama/obama database/obama_vaild'\n",
        "\n",
        "\n",
        "train_real=os.path.join(train,\"rlobama\")\n",
        "train_fake=os.path.join(train,\"dfobama\")"
      ],
      "metadata": {
        "id": "qBWXJu_Sv5u9"
      },
      "execution_count": null,
      "outputs": []
    },
    {
      "cell_type": "markdown",
      "source": [
        "Creating Array of real Images and Deepfake images:\n",
        "\n",
        "**here  names for fake images is realframXXXX therefore its showing names in train_fake_names as realframe1671**"
      ],
      "metadata": {
        "id": "4ou0P0vwnE_X"
      }
    },
    {
      "cell_type": "code",
      "source": [
        "train_real_names=os.listdir(train_real)\n",
        "print(train_real_names[:10])\n",
        "\n",
        "\n",
        "train_fake_names=os.listdir(train_fake)\n",
        "print(train_fake_names[:10])"
      ],
      "metadata": {
        "colab": {
          "base_uri": "https://localhost:8080/"
        },
        "id": "s0Dl5rdaw_Cc",
        "outputId": "6daa8f2f-3d0c-4546-a59e-16c8da1c7f87"
      },
      "execution_count": null,
      "outputs": [
        {
          "output_type": "stream",
          "name": "stdout",
          "text": [
            "['realframe6038.jpg', 'realframe569.jpg', 'realframe4680.jpg', 'realframe1976.jpg', 'realframe5466.jpg', 'realframe3246.jpg', 'realframe343.jpg', 'realframe4039.jpg', 'realframe316.jpg', 'realframe1115.jpg']\n",
            "['realframe569.jpg', 'realframe343.jpg', 'realframe316.jpg', 'realframe220.jpg', 'realframe755.jpg', 'realframe295.jpg', 'realframe224.jpg', 'realframe286.jpg', 'realframe689.jpg', 'realframe254.jpg']\n"
          ]
        }
      ]
    },
    {
      "cell_type": "markdown",
      "source": [
        "Creating a 4x4 graph space to show images in plot\n",
        "for that reason we take 8 real and 8 fake images\n"
      ],
      "metadata": {
        "id": "0pef5BiIoC9n"
      }
    },
    {
      "cell_type": "code",
      "source": [
        "import matplotlib.image as mimg\n",
        "nrows=4\n",
        "ncols=4\n",
        "plt.figure(figsize=(16,9))\n",
        "\n",
        "real_pic=[]\n",
        "for i in train_real_names[0:8]:\n",
        "    real_pic.append(os.path.join(train_real,i))\n",
        "    \n",
        "    \n",
        "    \n",
        "fake_pic=[]\n",
        "for i in train_fake_names[0:8]:\n",
        "    fake_pic.append(os.path.join(train_fake,i))   \n",
        "\n",
        "plt.show()"
      ],
      "metadata": {
        "colab": {
          "base_uri": "https://localhost:8080/",
          "height": 35
        },
        "id": "yB9HNbIhxA9S",
        "outputId": "79a0903c-7066-4f2c-f394-1dabe14e8842"
      },
      "execution_count": null,
      "outputs": [
        {
          "output_type": "display_data",
          "data": {
            "text/plain": [
              "<Figure size 1152x648 with 0 Axes>"
            ]
          },
          "metadata": {}
        }
      ]
    },
    {
      "cell_type": "code",
      "source": [
        "print(real_pic)\n",
        "print(fake_pic)"
      ],
      "metadata": {
        "colab": {
          "base_uri": "https://localhost:8080/"
        },
        "id": "SidZbZQ2xC_K",
        "outputId": "8316f2c3-55bc-4ce3-c106-f756ed3fd373"
      },
      "execution_count": null,
      "outputs": [
        {
          "output_type": "stream",
          "name": "stdout",
          "text": [
            "['/content/obama/obama database/obama_train/rlobama/realframe6038.jpg', '/content/obama/obama database/obama_train/rlobama/realframe569.jpg', '/content/obama/obama database/obama_train/rlobama/realframe4680.jpg', '/content/obama/obama database/obama_train/rlobama/realframe1976.jpg', '/content/obama/obama database/obama_train/rlobama/realframe5466.jpg', '/content/obama/obama database/obama_train/rlobama/realframe3246.jpg', '/content/obama/obama database/obama_train/rlobama/realframe343.jpg', '/content/obama/obama database/obama_train/rlobama/realframe4039.jpg']\n",
            "['/content/obama/obama database/obama_train/dfobama/realframe569.jpg', '/content/obama/obama database/obama_train/dfobama/realframe343.jpg', '/content/obama/obama database/obama_train/dfobama/realframe316.jpg', '/content/obama/obama database/obama_train/dfobama/realframe220.jpg', '/content/obama/obama database/obama_train/dfobama/realframe755.jpg', '/content/obama/obama database/obama_train/dfobama/realframe295.jpg', '/content/obama/obama database/obama_train/dfobama/realframe224.jpg', '/content/obama/obama database/obama_train/dfobama/realframe286.jpg']\n"
          ]
        }
      ]
    },
    {
      "cell_type": "code",
      "source": [
        "pics=real_pic+fake_pic\n",
        "len(pics)"
      ],
      "metadata": {
        "colab": {
          "base_uri": "https://localhost:8080/"
        },
        "id": "Odh3x1IuxFg6",
        "outputId": "2079558c-1168-4f57-94b4-670fd6f274ce"
      },
      "execution_count": null,
      "outputs": [
        {
          "output_type": "execute_result",
          "data": {
            "text/plain": [
              "16"
            ]
          },
          "metadata": {},
          "execution_count": 9
        }
      ]
    },
    {
      "cell_type": "markdown",
      "source": [
        "Showing the plot of 1st 16 images form the data"
      ],
      "metadata": {
        "id": "VFGUpu6Aom5P"
      }
    },
    {
      "cell_type": "code",
      "source": [
        "for i in range(0,len(pics)):\n",
        "    data=pics[i].split(\"/\",2)[2]\n",
        "    sp=plt.subplot(nrows,ncols,i+1)\n",
        "    sp.axis('off')\n",
        "    image=mimg.imread(pics[i])\n",
        "    plt.imshow(image,cmap=\"gray\")\n",
        "    \n",
        "plt.show()"
      ],
      "metadata": {
        "colab": {
          "base_uri": "https://localhost:8080/",
          "height": 242
        },
        "id": "4PYp4yjkxNZo",
        "outputId": "d6cbba75-2c30-4119-ce03-6f94388fbae3"
      },
      "execution_count": null,
      "outputs": [
        {
          "output_type": "display_data",
          "data": {
            "text/plain": [
              "<Figure size 432x288 with 16 Axes>"
            ],
            "image/png": "[encoded data removed]"
          },
          "metadata": {
            "needs_background": "light"
          }
        }
      ]
    },
    {
      "cell_type": "markdown",
      "source": [
        "**Image augmentation** is a technique of applying different transformations to original images which results in multiple transformed copies of the same image. Each copy, however, is different from the other in certain aspects depending on the augmentation techniques you apply like shifting, rotating, flipping, etc.\n"
      ],
      "metadata": {
        "id": "ecvVNvAjoxN9"
      }
    },
    {
      "cell_type": "code",
      "source": [
        "train_dgen=ImageDataGenerator(rescale=1/255,\n",
        "                             zoom_range=0.3,\n",
        "                             rotation_range=50,\n",
        "                             width_shift_range=0.2,\n",
        "                             height_shift_range=0.2,\n",
        "                             horizontal_flip=True)\n",
        "\n",
        "valid_dgen=ImageDataGenerator(rescale=1/255)"
      ],
      "metadata": {
        "id": "YPeVNqZ2xPQH"
      },
      "execution_count": null,
      "outputs": []
    },
    {
      "cell_type": "markdown",
      "source": [
        "Dividing Data into batch size of 32"
      ],
      "metadata": {
        "id": "88PVauhbpiM3"
      }
    },
    {
      "cell_type": "code",
      "source": [
        "train_gen=train_dgen.flow_from_directory(train,\n",
        "                                        target_size=(120,120),\n",
        "                                        batch_size=32,\n",
        "                                        class_mode='binary')"
      ],
      "metadata": {
        "colab": {
          "base_uri": "https://localhost:8080/"
        },
        "id": "TXg-RjMxxSIf",
        "outputId": "aead133b-9930-43ba-b6c4-6c21078686f4"
      },
      "execution_count": null,
      "outputs": [
        {
          "output_type": "stream",
          "name": "stdout",
          "text": [
            "Found 6739 images belonging to 2 classes.\n"
          ]
        }
      ]
    },
    {
      "cell_type": "code",
      "source": [
        "valid_gen=valid_dgen.flow_from_directory(valid,\n",
        "                                        target_size=(120,120),\n",
        "                                        batch_size=32,\n",
        "                                        class_mode='binary')"
      ],
      "metadata": {
        "colab": {
          "base_uri": "https://localhost:8080/"
        },
        "id": "4YXIFMnyxU_P",
        "outputId": "0e3de8bc-eb8a-4016-bcbf-2b48e18daf91"
      },
      "execution_count": null,
      "outputs": [
        {
          "output_type": "stream",
          "name": "stdout",
          "text": [
            "Found 1878 images belonging to 2 classes.\n"
          ]
        }
      ]
    },
    {
      "cell_type": "code",
      "source": [
        "print(train_gen.class_indices)\n",
        "print(train_gen.image_shape)"
      ],
      "metadata": {
        "colab": {
          "base_uri": "https://localhost:8080/"
        },
        "id": "sL75TA7SxW4I",
        "outputId": "9dfedba2-d5ee-4104-a1ee-9724106f38cf"
      },
      "execution_count": null,
      "outputs": [
        {
          "output_type": "stream",
          "name": "stdout",
          "text": [
            "{'dfobama': 0, 'rlobama': 1}\n",
            "(120, 120, 3)\n"
          ]
        }
      ]
    },
    {
      "cell_type": "code",
      "source": [
        "print(valid_gen.class_indices)\n",
        "print(train_gen.image_shape)"
      ],
      "metadata": {
        "colab": {
          "base_uri": "https://localhost:8080/"
        },
        "id": "WtMVi6DAxYxn",
        "outputId": "bed84cbe-a6db-4cc2-fab5-c097be0e9377"
      },
      "execution_count": null,
      "outputs": [
        {
          "output_type": "stream",
          "name": "stdout",
          "text": [
            "{'fakeobm': 0, 'realobm': 1}\n",
            "(120, 120, 3)\n"
          ]
        }
      ]
    },
    {
      "cell_type": "markdown",
      "source": [
        "### Creating A 2 **layerd** CNN Model \n",
        "\n",
        "CNN:In deep learning, a convolutional neural network (CNN/ConvNet) is a class of deep neural networks, most commonly applied to analyze visual imagery. A convolutional neural network (CNN) is a type of artificial neural network used in image recognition and processing that is specifically designed to process pixel data. \n",
        "\n",
        "\n",
        "1.Layers:Keras Layers are the functional building blocks of Keras Models. Each layer is created using numerous layer_() functions. These layers are fed with input information, they process this information, do some computation and hence produce the output. Further, this output of one layer is fed to another layer as its input. \n",
        "\n",
        " \n",
        "\n",
        "2.Conv2D: \n",
        "Keras Conv2D is a 2D Convolution Layer, this layer creates a convolution kernel that is wind with layers input which helps produce a tensor of outputs. \n",
        "\n",
        "3.Kernel:In image processing kernel is a convolution matrix or masks which can be used for blurring, sharpening, embossing, edge detection, and more by doing a convolution between a kernel and an image. \n",
        "\n",
        "4.Maxpooling2D:Max pooling operation for 2D spatial data. Down samples the input along its spatial dimensions (height and width) by taking the maximum value over an input window (of size defined by pool_size ) for each channel of the input. The window is shifted by strides along each dimension. \n",
        "\n",
        "5.Dropout: The Dropout layer randomly sets input units to 0 with a frequency of rate at each step during training time, which helps prevent overfitting. Inputs not set to 0 are scaled up by 1/(1 - rate) such that the sum over all inputs is unchanged. \n",
        "\n",
        "  \n",
        "\n",
        "6.Flatten: Flatten is used to flatten the input. For example, if flatten is applied to layer having input shape as (batch_size, 2,2), then the output shape of the layer will be (batch_size, 4). \n",
        "\n",
        " \n",
        "\n",
        "7.Dense: Dense layer is the regular deeply connected neural network layer. It is most common and frequently used layer. Dense layer does the below operation on the input and return the output. output = activation(dot(input, kernel) + bias) where activation is the element-wise activation function passed as the activation argument, kernel is a weights matrix created by the layer, and bias is a bias vector created by the layer (only applicable if use bias is True). These are all attributes of Dense. \n",
        "\n",
        " "
      ],
      "metadata": {
        "id": "CDNxCW-tqbbQ"
      }
    },
    {
      "cell_type": "code",
      "source": [
        "#performing CNN and Building modle\n",
        "\n",
        "model=Sequential()\n",
        "#adding 1st layer\n",
        "model.add(Conv2D(32,(3,3),padding=\"SAME\",activation=\"relu\",input_shape=(120,120,3)))\n",
        "model.add(MaxPooling2D(pool_size=(2,2)))\n",
        "model.add(Dropout(0.5))\n",
        "\n",
        "\n",
        "#adding 2nd layer\n",
        "model.add(Conv2D(64,(3,3),padding=\"SAME\",activation=\"relu\"))\n",
        "model.add(MaxPooling2D(pool_size=(2,2)))\n",
        "model.add(Dropout(0.5))\n",
        "\n",
        "#falttening the layer\n",
        "model.add(Flatten())\n",
        "\n",
        "\n",
        "model.add(Dense(256,activation=\"relu\"))\n",
        "model.add(Dropout(0.5))\n",
        "model.add(Dense(1,activation=\"sigmoid\"))\n",
        "model.summary()"
      ],
      "metadata": {
        "colab": {
          "base_uri": "https://localhost:8080/"
        },
        "id": "4m29jTOgxasP",
        "outputId": "da195787-4c40-4735-c1a1-663e0d0ccfca"
      },
      "execution_count": null,
      "outputs": [
        {
          "output_type": "stream",
          "name": "stdout",
          "text": [
            "Model: \"sequential\"\n",
            "_________________________________________________________________\n",
            " Layer (type)                Output Shape              Param #   \n",
            "=================================================================\n",
            " conv2d (Conv2D)             (None, 120, 120, 32)      896       \n",
            "                                                                 \n",
            " max_pooling2d (MaxPooling2D  (None, 60, 60, 32)       0         \n",
            " )                                                               \n",
            "                                                                 \n",
            " dropout (Dropout)           (None, 60, 60, 32)        0         \n",
            "                                                                 \n",
            " conv2d_1 (Conv2D)           (None, 60, 60, 64)        18496     \n",
            "                                                                 \n",
            " max_pooling2d_1 (MaxPooling  (None, 30, 30, 64)       0         \n",
            " 2D)                                                             \n",
            "                                                                 \n",
            " dropout_1 (Dropout)         (None, 30, 30, 64)        0         \n",
            "                                                                 \n",
            " flatten (Flatten)           (None, 57600)             0         \n",
            "                                                                 \n",
            " dense (Dense)               (None, 256)               14745856  \n",
            "                                                                 \n",
            " dropout_2 (Dropout)         (None, 256)               0         \n",
            "                                                                 \n",
            " dense_1 (Dense)             (None, 1)                 257       \n",
            "                                                                 \n",
            "=================================================================\n",
            "Total params: 14,765,505\n",
            "Trainable params: 14,765,505\n",
            "Non-trainable params: 0\n",
            "_________________________________________________________________\n"
          ]
        }
      ]
    },
    {
      "cell_type": "code",
      "source": [
        "import keras\n",
        "from tensorflow.keras.optimizers import Adam\n",
        "from tensorflow.keras.models import Model"
      ],
      "metadata": {
        "id": "4q0bl1yWxcs3"
      },
      "execution_count": null,
      "outputs": []
    },
    {
      "cell_type": "markdown",
      "source": [
        "padding=”SAME” \n",
        "\n",
        "SAME padding sometimes called HALF padding. It is called SAME because for a convolution with a stride=1, (or for pooling) it should produce output of the same size as the input. \n",
        "\n",
        "activation=”relu” \n",
        "\n",
        "The rectified linear activation function overcomes the vanishing gradient problem, allowing models to learn faster and perform better \n",
        "\n",
        " \n",
        "\n",
        "Model optimizers (Adam): \n",
        "\n",
        "Adam is a replacement optimization algorithm for stochastic gradient descent for training deep learning models. "
      ],
      "metadata": {
        "id": "nfSVyn5pdrUd"
      }
    },
    {
      "cell_type": "code",
      "source": [
        "model.compile(Adam(learning_rate=0.001),loss=\"binary_crossentropy\",metrics=[\"accuracy\"])"
      ],
      "metadata": {
        "id": "4NMp1VWjxfn3"
      },
      "execution_count": null,
      "outputs": []
    },
    {
      "cell_type": "markdown",
      "source": [
        "Training Model for 30 times with 70 steps in each step"
      ],
      "metadata": {
        "id": "Ud9xUtlrq7N5"
      }
    },
    {
      "cell_type": "code",
      "source": [
        "trainning=model.fit(train_gen,\n",
        "                    steps_per_epoch=70,\n",
        "                    epochs=30,\n",
        "                    validation_data=valid_gen,\n",
        "                    validation_steps=50)"
      ],
      "metadata": {
        "colab": {
          "base_uri": "https://localhost:8080/"
        },
        "id": "lq6Rokfjxh-n",
        "outputId": "79fe8bde-c2f5-4d4f-cfba-bcb4d314bae7"
      },
      "execution_count": null,
      "outputs": [
        {
          "output_type": "stream",
          "name": "stdout",
          "text": [
            "Epoch 1/30\n",
            "70/70 [==============================] - 133s 2s/step - loss: 0.3116 - accuracy: 0.9111 - val_loss: 0.0265 - val_accuracy: 1.0000\n",
            "Epoch 2/30\n",
            "70/70 [==============================] - 117s 2s/step - loss: 0.0120 - accuracy: 0.9982 - val_loss: 0.0085 - val_accuracy: 1.0000\n",
            "Epoch 3/30\n",
            "70/70 [==============================] - 116s 2s/step - loss: 0.0095 - accuracy: 0.9973 - val_loss: 0.0140 - val_accuracy: 1.0000\n",
            "Epoch 4/30\n",
            "70/70 [==============================] - 116s 2s/step - loss: 0.0054 - accuracy: 0.9987 - val_loss: 0.0075 - val_accuracy: 1.0000\n",
            "Epoch 5/30\n",
            "70/70 [==============================] - 115s 2s/step - loss: 0.0021 - accuracy: 0.9996 - val_loss: 6.5389e-04 - val_accuracy: 1.0000\n",
            "Epoch 6/30\n",
            "70/70 [==============================] - 116s 2s/step - loss: 0.0016 - accuracy: 0.9996 - val_loss: 2.2925e-04 - val_accuracy: 1.0000\n",
            "Epoch 7/30\n",
            "70/70 [==============================] - 116s 2s/step - loss: 5.2662e-04 - accuracy: 1.0000 - val_loss: 2.8022e-05 - val_accuracy: 1.0000\n",
            "Epoch 8/30\n",
            "70/70 [==============================] - 116s 2s/step - loss: 5.0778e-04 - accuracy: 1.0000 - val_loss: 4.6269e-05 - val_accuracy: 1.0000\n",
            "Epoch 9/30\n",
            "70/70 [==============================] - 115s 2s/step - loss: 0.0143 - accuracy: 0.9942 - val_loss: 0.0101 - val_accuracy: 1.0000\n",
            "Epoch 10/30\n",
            "70/70 [==============================] - 115s 2s/step - loss: 0.0014 - accuracy: 1.0000 - val_loss: 0.0022 - val_accuracy: 1.0000\n",
            "Epoch 11/30\n",
            "70/70 [==============================] - 115s 2s/step - loss: 0.0037 - accuracy: 0.9987 - val_loss: 0.0131 - val_accuracy: 1.0000\n",
            "Epoch 12/30\n",
            "70/70 [==============================] - 115s 2s/step - loss: 0.0042 - accuracy: 0.9996 - val_loss: 0.0016 - val_accuracy: 1.0000\n",
            "Epoch 13/30\n",
            "70/70 [==============================] - 114s 2s/step - loss: 6.4122e-04 - accuracy: 1.0000 - val_loss: 3.8156e-04 - val_accuracy: 1.0000\n",
            "Epoch 14/30\n",
            "70/70 [==============================] - 117s 2s/step - loss: 1.6162e-04 - accuracy: 1.0000 - val_loss: 4.9777e-04 - val_accuracy: 1.0000\n",
            "Epoch 15/30\n",
            "70/70 [==============================] - 127s 2s/step - loss: 5.3711e-04 - accuracy: 1.0000 - val_loss: 4.1546e-04 - val_accuracy: 1.0000\n",
            "Epoch 16/30\n",
            "70/70 [==============================] - 115s 2s/step - loss: 2.3820e-04 - accuracy: 1.0000 - val_loss: 5.8384e-05 - val_accuracy: 1.0000\n",
            "Epoch 17/30\n",
            "70/70 [==============================] - 115s 2s/step - loss: 4.3288e-04 - accuracy: 1.0000 - val_loss: 4.6348e-05 - val_accuracy: 1.0000\n",
            "Epoch 18/30\n",
            "70/70 [==============================] - 115s 2s/step - loss: 1.5277e-04 - accuracy: 1.0000 - val_loss: 7.0785e-05 - val_accuracy: 1.0000\n",
            "Epoch 19/30\n",
            "70/70 [==============================] - 115s 2s/step - loss: 1.7928e-05 - accuracy: 1.0000 - val_loss: 4.6433e-05 - val_accuracy: 1.0000\n",
            "Epoch 20/30\n",
            "70/70 [==============================] - 115s 2s/step - loss: 1.1446e-04 - accuracy: 1.0000 - val_loss: 6.7816e-05 - val_accuracy: 1.0000\n",
            "Epoch 21/30\n",
            "70/70 [==============================] - 115s 2s/step - loss: 2.1377e-05 - accuracy: 1.0000 - val_loss: 3.5402e-05 - val_accuracy: 1.0000\n",
            "Epoch 22/30\n",
            "70/70 [==============================] - 115s 2s/step - loss: 2.4409e-05 - accuracy: 1.0000 - val_loss: 1.3763e-05 - val_accuracy: 1.0000\n",
            "Epoch 23/30\n",
            "70/70 [==============================] - 116s 2s/step - loss: 3.5818e-04 - accuracy: 1.0000 - val_loss: 2.6019e-06 - val_accuracy: 1.0000\n",
            "Epoch 24/30\n",
            "70/70 [==============================] - 115s 2s/step - loss: 0.0063 - accuracy: 0.9982 - val_loss: 0.0116 - val_accuracy: 1.0000\n",
            "Epoch 25/30\n",
            "70/70 [==============================] - 116s 2s/step - loss: 0.0018 - accuracy: 1.0000 - val_loss: 0.0016 - val_accuracy: 1.0000\n",
            "Epoch 26/30\n",
            "70/70 [==============================] - 116s 2s/step - loss: 1.8411e-04 - accuracy: 1.0000 - val_loss: 2.1455e-04 - val_accuracy: 1.0000\n",
            "Epoch 27/30\n",
            "70/70 [==============================] - 115s 2s/step - loss: 5.5819e-04 - accuracy: 1.0000 - val_loss: 5.5557e-04 - val_accuracy: 1.0000\n",
            "Epoch 28/30\n",
            "70/70 [==============================] - 115s 2s/step - loss: 4.1677e-04 - accuracy: 1.0000 - val_loss: 0.0013 - val_accuracy: 1.0000\n",
            "Epoch 29/30\n",
            "70/70 [==============================] - 115s 2s/step - loss: 0.0026 - accuracy: 0.9982 - val_loss: 6.2620e-09 - val_accuracy: 1.0000\n",
            "Epoch 30/30\n",
            "70/70 [==============================] - 115s 2s/step - loss: 3.8189e-04 - accuracy: 1.0000 - val_loss: 1.2747e-04 - val_accuracy: 1.0000\n"
          ]
        }
      ]
    },
    {
      "cell_type": "markdown",
      "source": [
        "ploting a trainning and accuracy plot"
      ],
      "metadata": {
        "id": "6KbHTrX9rVVm"
      }
    },
    {
      "cell_type": "code",
      "source": [
        "pd.DataFrame(trainning.history).plot(figsize=(10,5))\n",
        "plt.grid(True)\n",
        "plt.gca().set_ylim(0,1)\n",
        "plt.show()\n"
      ],
      "metadata": {
        "colab": {
          "base_uri": "https://localhost:8080/",
          "height": 324
        },
        "id": "Jvtu1PR-xkrH",
        "outputId": "6650d66c-033f-4ac6-a8e9-7062cfd60d74"
      },
      "execution_count": null,
      "outputs": [
        {
          "output_type": "display_data",
          "data": {
            "text/plain": [
              "<Figure size 720x360 with 1 Axes>"
            ],
            "image/png": "[encoded data removed]"
          },
          "metadata": {
            "needs_background": "light"
          }
        }
      ]
    },
    {
      "cell_type": "code",
      "source": [
        "test_loss ,test_acc=model.evaluate(valid_gen)"
      ],
      "metadata": {
        "colab": {
          "base_uri": "https://localhost:8080/"
        },
        "id": "FGgfXSgKYdSP",
        "outputId": "48a902aa-86aa-48d0-b0df-e8a17d563a03"
      },
      "execution_count": null,
      "outputs": [
        {
          "output_type": "stream",
          "name": "stdout",
          "text": [
            "59/59 [==============================] - 36s 606ms/step - loss: 1.3216e-04 - accuracy: 1.0000\n"
          ]
        }
      ]
    },
    {
      "cell_type": "markdown",
      "source": [
        "Testing Model Accurcy on validation data set\n",
        "**here we got 100% Accurcy for validation data**"
      ],
      "metadata": {
        "id": "vTfPJAH5rhl7"
      }
    },
    {
      "cell_type": "code",
      "source": [
        "model.save(\"Obama_Deepfake_detection_model.h5\")"
      ],
      "metadata": {
        "id": "RkYi3JlPYhjd"
      },
      "execution_count": null,
      "outputs": []
    },
    {
      "cell_type": "markdown",
      "source": [
        "Saving the model"
      ],
      "metadata": {
        "id": "4ufwMw-Wr0yb"
      }
    },
    {
      "cell_type": "code",
      "source": [
        "modelobama=keras.models.load_model('/content/obama/Obama_Deepfake_detection_model1.h5')"
      ],
      "metadata": {
        "id": "t7QHBJfDYtMK"
      },
      "execution_count": null,
      "outputs": []
    },
    {
      "cell_type": "markdown",
      "source": [
        "Loading the save model for next time"
      ],
      "metadata": {
        "id": "SNmmAHaxr4yz"
      }
    },
    {
      "cell_type": "markdown",
      "source": [
        "### **Model Testing For Unseen data (Completely New Dataset)**"
      ],
      "metadata": {
        "id": "dzZQPNjDsB2j"
      }
    },
    {
      "cell_type": "code",
      "source": [
        "newtestdata='/content/obama/obamadeepfake/Test1'"
      ],
      "metadata": {
        "id": "TmtyT7tbYylm"
      },
      "execution_count": null,
      "outputs": []
    },
    {
      "cell_type": "code",
      "source": [
        "newtest_dgen=ImageDataGenerator(rescale=1/255)\n",
        "newtest_gen=newtest_dgen.flow_from_directory(newtestdata,\n",
        "                                        target_size=(120,120),\n",
        "                                        batch_size=32,\n",
        "                                        class_mode='binary')"
      ],
      "metadata": {
        "colab": {
          "base_uri": "https://localhost:8080/"
        },
        "id": "RwlI3UkEY7Om",
        "outputId": "e2a6cf66-f16c-4a93-b788-aef473e57dc1"
      },
      "execution_count": null,
      "outputs": [
        {
          "output_type": "stream",
          "name": "stdout",
          "text": [
            "Found 240 images belonging to 2 classes.\n"
          ]
        }
      ]
    },
    {
      "cell_type": "markdown",
      "source": [
        "Reshapeing the iamges of newdata"
      ],
      "metadata": {
        "id": "WR9GtMJjsU88"
      }
    },
    {
      "cell_type": "code",
      "source": [
        "test_loss ,test_acc=modelobama.evaluate(newtest_gen)"
      ],
      "metadata": {
        "colab": {
          "base_uri": "https://localhost:8080/"
        },
        "id": "m8K1zligY9bV",
        "outputId": "1e36d234-244f-4b00-e214-e91adbc62f17"
      },
      "execution_count": null,
      "outputs": [
        {
          "output_type": "stream",
          "name": "stdout",
          "text": [
            "8/8 [==============================] - 7s 787ms/step - loss: 1.6676 - accuracy: 0.8667\n"
          ]
        }
      ]
    },
    {
      "cell_type": "markdown",
      "source": [
        "`Here we got accuracy of 86% for unseen data`"
      ],
      "metadata": {
        "id": "3gVvQ5KYsc7k"
      }
    },
    {
      "cell_type": "code",
      "source": [
        "predict=modelobama.predict(newtest_gen)"
      ],
      "metadata": {
        "id": "JqpUJSZKY_2t"
      },
      "execution_count": null,
      "outputs": []
    },
    {
      "cell_type": "code",
      "source": [
        "predict"
      ],
      "metadata": {
        "id": "VtDu0roxZErC"
      },
      "execution_count": null,
      "outputs": []
    },
    {
      "cell_type": "code",
      "source": [
        "X, y = newtest_gen.next()\n",
        "\n",
        "# Evaluating prediction\n",
        "print(f\"Predicted likelihood: {modelobama.predict(X)[0][0]:.4f}\")\n",
        "print(f\"Actual label: {int(y[0])}\")\n",
        "print(f\"\\nCorrect prediction: {round(modelobama.predict(X)[0][0])==y[0]}\")\n",
        "\n"
      ],
      "metadata": {
        "colab": {
          "base_uri": "https://localhost:8080/"
        },
        "id": "tAwfu0AfZIM6",
        "outputId": "75e64719-14fa-4c9b-af5e-bc74bd731eb2"
      },
      "execution_count": null,
      "outputs": [
        {
          "output_type": "stream",
          "name": "stdout",
          "text": [
            "Predicted likelihood: 0.0004\n",
            "Actual label: 0\n",
            "\n",
            "Correct prediction: True\n"
          ]
        }
      ]
    },
    {
      "cell_type": "code",
      "source": [
        "correct_real = []\n",
        "correct_real_pred = []\n",
        "\n",
        "correct_deepfake = []\n",
        "correct_deepfake_pred = []\n",
        "\n",
        "misclassified = []\n",
        "misclassified_real_pred = []\n",
        "\n",
        "misclassified_deepfake = []\n",
        "misclassified_deepfake_pred = []"
      ],
      "metadata": {
        "id": "PMBm5fy4ZTaI"
      },
      "execution_count": null,
      "outputs": []
    },
    {
      "cell_type": "markdown",
      "source": [
        "Creatiing an array for each predicted image class\n",
        "\n",
        "*   correct_real\n",
        "*   correct_deepfake\n",
        "*   missclassified_real\n",
        "*   missclassified_fakes"
      ],
      "metadata": {
        "id": "CVdCvWyXtNF8"
      }
    },
    {
      "cell_type": "code",
      "source": [
        "for i in range(len(newtest_gen.labels)):\n",
        "    \n",
        "    # Loading next picture, generating prediction\n",
        "    X, y = newtest_gen.next()\n",
        "    pred = modelobama.predict(X)[0][0]\n",
        "    \n",
        "    # Sorting into proper category\n",
        "    if round(pred)==y[0] and y[0]==1:\n",
        "        correct_real.append(X)\n",
        "        correct_real_pred.append(pred)\n",
        "    elif round(pred)==y[0] and y[0]==0:\n",
        "        correct_deepfake.append(X)\n",
        "        correct_deepfake_pred.append(pred)\n",
        "    elif y[0]==1:\n",
        "        misclassified.append(X)\n",
        "        misclassified_real_pred.append(pred)\n",
        "    else:\n",
        "        misclassified_deepfake.append(X)\n",
        "        misclassified_deepfake_pred.append(pred)   \n",
        "        \n",
        "    # Printing status update\n",
        "    if i % 1000 == 0:\n",
        "        print(i, ' predictions completed.')\n",
        "    \n",
        "    if i == len(newtest_gen.labels)-1:\n",
        "        print(\"All\", len(newtest_gen.labels), \"predictions completed\")"
      ],
      "metadata": {
        "colab": {
          "base_uri": "https://localhost:8080/"
        },
        "id": "ZjSdvEniZbH3",
        "outputId": "6d540b7a-921f-4859-8db9-205608f90ab2"
      },
      "execution_count": null,
      "outputs": [
        {
          "output_type": "stream",
          "name": "stdout",
          "text": [
            "0  predictions completed.\n",
            "All 240 predictions completed\n"
          ]
        }
      ]
    },
    {
      "cell_type": "code",
      "source": [
        "len(correct_real)"
      ],
      "metadata": {
        "colab": {
          "base_uri": "https://localhost:8080/"
        },
        "id": "AH0ZkVVabN-r",
        "outputId": "85912cf4-2c5e-4315-8a62-d590f9ae156e"
      },
      "execution_count": null,
      "outputs": [
        {
          "output_type": "execute_result",
          "data": {
            "text/plain": [
              "96"
            ]
          },
          "metadata": {},
          "execution_count": 26
        }
      ]
    },
    {
      "cell_type": "code",
      "source": [
        "len(correct_deepfake)"
      ],
      "metadata": {
        "colab": {
          "base_uri": "https://localhost:8080/"
        },
        "id": "a77tfNDfbTYy",
        "outputId": "f8da3c08-2f0b-4264-a4d5-643bafbe57cf"
      },
      "execution_count": null,
      "outputs": [
        {
          "output_type": "execute_result",
          "data": {
            "text/plain": [
              "106"
            ]
          },
          "metadata": {},
          "execution_count": 27
        }
      ]
    },
    {
      "cell_type": "code",
      "source": [
        "len(misclassified)"
      ],
      "metadata": {
        "colab": {
          "base_uri": "https://localhost:8080/"
        },
        "id": "4ezjhDTWbVe2",
        "outputId": "ba3a7157-889c-470f-c628-d87099c35860"
      },
      "execution_count": null,
      "outputs": [
        {
          "output_type": "execute_result",
          "data": {
            "text/plain": [
              "38"
            ]
          },
          "metadata": {},
          "execution_count": 29
        }
      ]
    },
    {
      "cell_type": "markdown",
      "source": [
        "## **Testing Model for random uplaoded images**"
      ],
      "metadata": {
        "id": "t96kfuMMt_7u"
      }
    },
    {
      "cell_type": "code",
      "source": [
        "#now seeing how model works by providing data which was not present prviously\n",
        "import numpy as np\n",
        "from google.colab import files\n",
        "from keras.preprocessing import image\n",
        "\n",
        "uploaded=files.upload()\n",
        "for fname in uploaded.keys():\n",
        "  img_path=\"/content/\"+fname\n",
        "  img= image.load_img(img_path , target_size=(120,120))\n",
        "  images=image.img_to_array(img)\n",
        "  images=np.expand_dims(images,axis=0)\n",
        "  prediction=modelobama.predict(images)\n",
        "  print(fname)\n",
        "  if prediction==0:\n",
        "    print(\"Real Image Of Brak Obama\")\n",
        "\n",
        "  else:\n",
        "    print(\"Deepfake Image Of Brak Obama\")\n"
      ],
      "metadata": {
        "colab": {
          "resources": {
            "http://localhost:8080/nbextensions/google.colab/files.js": {
              "data": "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",
              "ok": true,
              "headers": [
                [
                  "content-type",
                  "application/javascript"
                ]
              ],
              "status": 200,
              "status_text": ""
            }
          },
          "base_uri": "https://localhost:8080/",
          "height": 455
        },
        "id": "88TCmckjbZ3-",
        "outputId": "5bd65a80-0226-40e6-f7ac-1447002ba9eb"
      },
      "execution_count": null,
      "outputs": [
        {
          "output_type": "display_data",
          "data": {
            "text/plain": [
              "<IPython.core.display.HTML object>"
            ],
            "text/html": [
              "\n",
              "     <input type=\"file\" id=\"files-d6d03aab-5ef0-4d22-b47d-dd7ed049d88c\" name=\"files[]\" multiple disabled\n",
              "        style=\"border:none\" />\n",
              "     <output id=\"result-d6d03aab-5ef0-4d22-b47d-dd7ed049d88c\">\n",
              "      Upload widget is only available when the cell has been executed in the\n",
              "      current browser session. Please rerun this cell to enable.\n",
              "      </output>\n",
              "      <script src=\"/nbextensions/google.colab/files.js\"></script> "
            ]
          },
          "metadata": {}
        },
        {
          "output_type": "stream",
          "name": "stdout",
          "text": [
            "Saving df3.jpg to df3 (1).jpg\n",
            "Saving df2.jpg to df2.jpg\n",
            "Saving df1.jfif to df1.jfif\n",
            "Saving Barack_Obama_in_2016.jpg to Barack_Obama_in_2016 (1).jpg\n",
            "Saving download (1).jfif to download (1).jfif\n",
            "Saving download.jfif to download (2).jfif\n",
            "df3.jpg\n",
            "Deepfake Image Of Brak Obama\n",
            "df2.jpg\n",
            "Real Image Of Brak Obama\n",
            "df1.jfif\n",
            "Deepfake Image Of Brak Obama\n",
            "Barack_Obama_in_2016.jpg\n",
            "Deepfake Image Of Brak Obama\n",
            "download (1).jfif\n",
            "Deepfake Image Of Brak Obama\n",
            "download.jfif\n",
            "Deepfake Image Of Brak Obama\n"
          ]
        }
      ]
    },
    {
      "cell_type": "markdown",
      "source": [
        "## End"
      ],
      "metadata": {
        "id": "ky9mucmHtEsk"
      }
    },
    {
      "cell_type": "code",
      "source": [
        ""
      ],
      "metadata": {
        "id": "gW527XvKfnV3"
      },
      "execution_count": null,
      "outputs": []
    }
  ]
}